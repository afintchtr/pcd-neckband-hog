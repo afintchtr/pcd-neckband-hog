{
  "nbformat": 4,
  "nbformat_minor": 0,
  "metadata": {
    "colab": {
      "provenance": [],
      "include_colab_link": true
    },
    "kernelspec": {
      "name": "python3",
      "display_name": "Python 3"
    },
    "language_info": {
      "name": "python"
    }
  },
  "cells": [
    {
      "cell_type": "markdown",
      "metadata": {
        "id": "view-in-github",
        "colab_type": "text"
      },
      "source": [
        "<a href=\"https://colab.research.google.com/github/afintchtr/pcd-neckband-hog/blob/main/P2_Kelompok_8_Tugas_Akhir.ipynb\" target=\"_parent\"><img src=\"https://colab.research.google.com/assets/colab-badge.svg\" alt=\"Open In Colab\"/></a>"
      ]
    },
    {
      "cell_type": "markdown",
      "source": [
        "# Library"
      ],
      "metadata": {
        "id": "S1AY6imTGYl0"
      }
    },
    {
      "cell_type": "code",
      "execution_count": null,
      "metadata": {
        "id": "jc0aX3TCGVEn"
      },
      "outputs": [],
      "source": [
        "import matplotlib.pyplot as plt\n",
        "import numpy as np\n",
        "import os\n",
        "import PIL\n",
        "import tensorflow as tf\n",
        "import pathlib\n",
        "import random\n",
        "from tqdm import tqdm\n",
        "import cv2\n",
        "from skimage.feature import hog\n",
        "from skimage.transform import resize\n",
        "from sklearn.model_selection import train_test_split\n",
        "from sklearn.preprocessing import StandardScaler\n",
        "from sklearn.neighbors import KNeighborsClassifier\n",
        "from sklearn.ensemble import RandomForestClassifier\n",
        "from sklearn.linear_model import LogisticRegression\n",
        "from sklearn.tree import DecisionTreeClassifier\n",
        "from sklearn.metrics import confusion_matrix\n",
        "from sklearn.metrics import accuracy_score"
      ]
    },
    {
      "cell_type": "markdown",
      "source": [
        "# Read Image Data\n",
        "Read data from Drive"
      ],
      "metadata": {
        "id": "0cxoWTpiG1a0"
      }
    },
    {
      "cell_type": "markdown",
      "source": [
        "## Get Access from Drive"
      ],
      "metadata": {
        "id": "vyyRicljHAlL"
      }
    },
    {
      "cell_type": "code",
      "source": [
        "from google.colab import drive\n",
        "drive.mount('/content/drive/')"
      ],
      "metadata": {
        "colab": {
          "base_uri": "https://localhost:8080/"
        },
        "id": "Y4ZBIOZRG598",
        "outputId": "ab47c176-06ab-4686-ee97-a9458893cdea"
      },
      "execution_count": null,
      "outputs": [
        {
          "output_type": "stream",
          "name": "stdout",
          "text": [
            "Mounted at /content/drive/\n"
          ]
        }
      ]
    },
    {
      "cell_type": "code",
      "source": [
        "# Run for collaborator\n",
        "#data_dir = \"/content/drive/My Drive/Pengolahan Citra Digital/DatasetNeckbandB\"\n",
        "\n",
        "# Run for drive owner\n",
        "data_dir = \"/content/drive/My Drive/ILKOM/Semester 6/Tugas Akhir/Pengolahan Citra Digital/DatasetNeckbandB\"\n",
        "data_dir = pathlib.Path(data_dir)"
      ],
      "metadata": {
        "id": "SxlasH_CG7oo"
      },
      "execution_count": null,
      "outputs": []
    },
    {
      "cell_type": "code",
      "source": [
        "# Count total number of image will be read\n",
        "image_count = len(list(data_dir.glob('*/*.bmp')))\n",
        "print(image_count)"
      ],
      "metadata": {
        "colab": {
          "base_uri": "https://localhost:8080/"
        },
        "id": "ezlXi3uXG85b",
        "outputId": "6db2304c-f06a-40f9-a647-d7167b4ef5d6"
      },
      "execution_count": null,
      "outputs": [
        {
          "output_type": "stream",
          "name": "stdout",
          "text": [
            "1948\n"
          ]
        }
      ]
    },
    {
      "cell_type": "markdown",
      "source": [
        "## Read Image to Array"
      ],
      "metadata": {
        "id": "NTyc9ca1HDf5"
      }
    },
    {
      "cell_type": "code",
      "source": [
        "all_images = []\n",
        "labels = []\n",
        "\n",
        "class1 = list(data_dir.glob('class1/*'))\n",
        "for it in tqdm(range(0,len(class1))):\n",
        "    cls = 'class1'\n",
        "    img = cv2.imread(str(class1[it]))\n",
        "    resized_img = resize(img, (48*1, 64*1))\n",
        "    all_images.append(resized_img)\n",
        "    labels.append(cls)\n",
        "\n",
        "class2 = list(data_dir.glob('class2/*'))\n",
        "for it in tqdm(range(0,len(class2))):\n",
        "    cls = 'class2'\n",
        "    img = cv2.imread(str(class2[it]))\n",
        "    resized_img = resize(img, (48*1, 64*1))\n",
        "    all_images.append(resized_img)\n",
        "    labels.append(cls)\n",
        "\n",
        "class3 = list(data_dir.glob('class3/*'))\n",
        "for it in tqdm(range(0,len(class3))):\n",
        "    cls = 'class3'\n",
        "    img = cv2.imread(str(class3[it]))\n",
        "    resized_img = resize(img, (48*1, 64*1))\n",
        "    all_images.append(resized_img)\n",
        "    labels.append(cls)\n",
        "\n",
        "class4 = list(data_dir.glob('class4/*'))\n",
        "for it in tqdm(range(0,len(class4))):\n",
        "    cls = 'class4'\n",
        "    img = cv2.imread(str(class4[it]))\n",
        "    resized_img = resize(img, (48*1, 64*1))\n",
        "    all_images.append(resized_img)\n",
        "    labels.append(cls)\n",
        "\n",
        "class5 = list(data_dir.glob('class5/*'))\n",
        "for it in tqdm(range(0,len(class5))):\n",
        "    cls = 'class5'\n",
        "    img = cv2.imread(str(class5[it]))\n",
        "    resized_img = resize(img, (48*1, 64*1))\n",
        "    all_images.append(resized_img)\n",
        "    labels.append(cls)\n",
        "\n",
        "class6 = list(data_dir.glob('class6/*'))\n",
        "for it in tqdm(range(0,len(class6))):\n",
        "    cls = 'class6'\n",
        "    img = cv2.imread(str(class6[it]))\n",
        "    resized_img = resize(img, (48*1, 64*1))\n",
        "    all_images.append(resized_img)\n",
        "    labels.append(cls)\n",
        "\n",
        "class7 = list(data_dir.glob('class7/*'))\n",
        "for it in tqdm(range(0,len(class7))):\n",
        "    cls = 'class7'\n",
        "    img = cv2.imread(str(class7[it]))\n",
        "    resized_img = resize(img, (48*1, 64*1))\n",
        "    all_images.append(resized_img)\n",
        "    labels.append(cls)\n",
        "\n",
        "class8 = list(data_dir.glob('class8/*'))\n",
        "for it in tqdm(range(0,len(class8))):\n",
        "    cls = 'class8'\n",
        "    img = cv2.imread(str(class8[it]))\n",
        "    resized_img = resize(img, (48*1, 64*1))\n",
        "    all_images.append(resized_img)\n",
        "    labels.append(cls)\n",
        "\n",
        "unidentified = list(data_dir.glob('class9/*'))\n",
        "for it in tqdm(range(0,len(unidentified))):\n",
        "    cls = 'unidentified'\n",
        "    img = cv2.imread(str(unidentified[it]))\n",
        "    resized_img = resize(img, (48*1, 64*1))\n",
        "    all_images.append(resized_img)\n",
        "    labels.append(cls)"
      ],
      "metadata": {
        "colab": {
          "base_uri": "https://localhost:8080/"
        },
        "id": "MLD89FRtHGPJ",
        "outputId": "e47a9af0-1fa5-4968-f2f3-131239e6f1f1"
      },
      "execution_count": null,
      "outputs": [
        {
          "output_type": "stream",
          "name": "stderr",
          "text": [
            "100%|██████████| 262/262 [01:52<00:00,  2.33it/s]\n",
            "100%|██████████| 210/210 [01:41<00:00,  2.08it/s]\n",
            "100%|██████████| 264/264 [02:03<00:00,  2.14it/s]\n",
            "100%|██████████| 184/184 [01:23<00:00,  2.21it/s]\n",
            "100%|██████████| 149/149 [01:07<00:00,  2.21it/s]\n",
            "100%|██████████| 195/195 [01:29<00:00,  2.17it/s]\n",
            "100%|██████████| 195/195 [01:28<00:00,  2.20it/s]\n",
            "100%|██████████| 169/169 [01:18<00:00,  2.14it/s]\n",
            "100%|██████████| 320/320 [02:31<00:00,  2.11it/s]\n"
          ]
        }
      ]
    },
    {
      "cell_type": "markdown",
      "source": [],
      "metadata": {
        "id": "1Tc7Kg3OMJZL"
      }
    },
    {
      "cell_type": "markdown",
      "source": [
        "# Train and Test Data\n",
        "Split data into train data (70%) and test data (30%)"
      ],
      "metadata": {
        "id": "caL6p91lHJ1v"
      }
    },
    {
      "cell_type": "code",
      "source": [
        "X_train, X_test, y_train, y_test = train_test_split(all_images, labels, test_size=0.3,stratify=labels)"
      ],
      "metadata": {
        "id": "uhzyZX0XHM2Y"
      },
      "execution_count": null,
      "outputs": []
    },
    {
      "cell_type": "code",
      "source": [
        "print('Training data and target sizes: \\n{}, {}'.format(len(X_train), len(y_train)))\n",
        "print('Test data and target sizes: \\n{}, {}'.format(len(X_test), len(y_test)))"
      ],
      "metadata": {
        "colab": {
          "base_uri": "https://localhost:8080/"
        },
        "id": "9W6tfqqDHNy-",
        "outputId": "caf94d8a-3c50-49ad-dc60-57b0b9bc61d5"
      },
      "execution_count": null,
      "outputs": [
        {
          "output_type": "stream",
          "name": "stdout",
          "text": [
            "Training data and target sizes: \n",
            "1363, 1363\n",
            "Test data and target sizes: \n",
            "585, 585\n"
          ]
        }
      ]
    },
    {
      "cell_type": "code",
      "source": [
        "# Find amount of class in train\n",
        "import pandas as pd\n",
        "pd.Series(y_train).value_counts().sort_index()"
      ],
      "metadata": {
        "colab": {
          "base_uri": "https://localhost:8080/"
        },
        "id": "4MwFJm6QHPtW",
        "outputId": "615c310d-552f-4c30-b140-22d2231b2589"
      },
      "execution_count": null,
      "outputs": [
        {
          "output_type": "execute_result",
          "data": {
            "text/plain": [
              "class1          183\n",
              "class2          147\n",
              "class3          185\n",
              "class4          129\n",
              "class5          104\n",
              "class6          137\n",
              "class7          136\n",
              "class8          118\n",
              "unidentified    224\n",
              "dtype: int64"
            ]
          },
          "metadata": {},
          "execution_count": 26
        }
      ]
    },
    {
      "cell_type": "code",
      "source": [
        "# Find amount of class in test\n",
        "pd.Series(y_test).value_counts().sort_index()"
      ],
      "metadata": {
        "colab": {
          "base_uri": "https://localhost:8080/"
        },
        "id": "nlPdWas9HRSC",
        "outputId": "e298cd47-a40b-4326-b326-e9a7f7370588"
      },
      "execution_count": null,
      "outputs": [
        {
          "output_type": "execute_result",
          "data": {
            "text/plain": [
              "class1          79\n",
              "class2          63\n",
              "class3          79\n",
              "class4          55\n",
              "class5          45\n",
              "class6          58\n",
              "class7          59\n",
              "class8          51\n",
              "unidentified    96\n",
              "dtype: int64"
            ]
          },
          "metadata": {},
          "execution_count": 27
        }
      ]
    },
    {
      "cell_type": "code",
      "source": [
        "train_num = [183, 147, 185, 129, 104, 136, 137, 118, 224]\n",
        "test_num = [79, 63, 79, 55, 45, 59, 58, 51, 96]\n",
        "\n",
        "class_names = [\"1\", \"2\", \"3\", \"4\", \"5\", \"6\", \"7\", \"8\", \"9\"]\n",
        "  \n",
        "X_axis = np.arange(len(class_names))\n",
        "  \n",
        "plt.bar(X_axis - 0.2, train_num, 0.4, label = 'Train')\n",
        "plt.bar(X_axis + 0.2, test_num, 0.4, label = 'Test')\n",
        "  \n",
        "plt.xticks(X_axis, class_names)\n",
        "plt.xlabel(\"Class\")\n",
        "plt.ylabel(\"Amount\")\n",
        "plt.legend()\n",
        "plt.show()"
      ],
      "metadata": {
        "colab": {
          "base_uri": "https://localhost:8080/",
          "height": 279
        },
        "id": "q2IhzBUxHSea",
        "outputId": "9809676c-bce8-49e2-a60e-a9fbe2bc8456"
      },
      "execution_count": null,
      "outputs": [
        {
          "output_type": "display_data",
          "data": {
            "text/plain": [
              "<Figure size 432x288 with 1 Axes>"
            ],
            "image/png": "[encoded data removed]"
          },
          "metadata": {
            "needs_background": "light"
          }
        }
      ]
    },
    {
      "cell_type": "markdown",
      "source": [
        "# Augmentation and HOG"
      ],
      "metadata": {
        "id": "kTk2esXjHhfc"
      }
    },
    {
      "cell_type": "markdown",
      "source": [
        "## Augmentation Function"
      ],
      "metadata": {
        "id": "36DLhhB4HkVZ"
      }
    },
    {
      "cell_type": "code",
      "source": [
        "import random\n",
        "from skimage.transform import rotate\n",
        "import imgaug.augmenters as iaa\n",
        "import imgaug as ia\n",
        "import albumentations as A\n",
        "random.seed(1)\n",
        "\n",
        "def augmentations(img):\n",
        "  dimg = []\n",
        "  dimg.append(img)\n",
        "\n",
        "  # Rotation\n",
        "  r_img = rotate(img, angle=random.randint(-180,180))*255\n",
        "  dimg.append(r_img)\n",
        "\n",
        "  # Scaling\n",
        "  s_img = iaa.Affine(scale={\"x\": (random.randint(1,3),random.randint(1,3)), \n",
        "                            \"y\": (random.randint(1,3),random.randint(1,3))})\n",
        "  s_img = s_img.augment_image(img)\n",
        "  dimg.append(s_img)\n",
        "\n",
        "  # Brightness\n",
        "  tr = A.Compose([\n",
        "                  A.RandomBrightnessContrast(brightness_limit=1, contrast_limit=1, p=1.0)\n",
        "  ])\n",
        "  b_img = tr(image=img)['image']\n",
        "  dimg.append(b_img)\n",
        "\n",
        "  # Flip\n",
        "  fh_img = np.flipud(img)\n",
        "  fv_img = np.fliplr(img)\n",
        "  dimg.append(fh_img)\n",
        "  dimg.append(fv_img)\n",
        "\n",
        "  # Translate\n",
        "  h, w = img.shape[:2]\n",
        "  nh, nw = h/random.randint(1,h/2), w/random.randint(1,w/2)\n",
        "  matrix = np.float32([[1,0,nw],\n",
        "                      [0,1,nh]])\n",
        "  t_img = cv2.warpAffine(img, matrix, (w,h))\n",
        "  dimg.append(t_img)\n",
        "\n",
        "  # Shearing\n",
        "  shr_img = iaa.Affine(shear= (random.randint(-45,45),random.randint(-45,45)))\n",
        "  shr_img = shr_img.augment_image(img)\n",
        "  dimg.append(shr_img)\n",
        "\n",
        "  return dimg"
      ],
      "metadata": {
        "id": "OMKirQj3Hjxs"
      },
      "execution_count": null,
      "outputs": []
    },
    {
      "cell_type": "markdown",
      "source": [
        "## Apply Augment and Hog"
      ],
      "metadata": {
        "id": "sAc7grT7HvyH"
      }
    },
    {
      "cell_type": "code",
      "source": [
        "temp_y_train = y_train\n",
        "temp_x_train = X_train\n",
        "\n",
        "y_train = []\n",
        "X_train = []\n",
        "\n",
        "hog_images = []\n",
        "\n",
        "for it in tqdm(range(0,len(temp_x_train))):\n",
        "    cls = temp_y_train[it]\n",
        "    img = temp_x_train[it]\n",
        "    augmen_img = augmentations(img)\n",
        "    for im in augmen_img:\n",
        "      fd, hog_image = hog(im, orientations=9, pixels_per_cell=(8, 8),\n",
        "                    cells_per_block=(2, 2), visualize=True, multichannel=True)\n",
        "      if hog_image is not None:\n",
        "          hog_images.append(hog_image)\n",
        "          X_train.append(fd)\n",
        "      y_train.append(cls)\n",
        "\n",
        "temp_x_test = X_test\n",
        "X_test = []\n",
        "for it in tqdm(range(0,len(temp_x_test))):\n",
        "    img = temp_x_test[it]\n",
        "    resized_img = resize(img, (48*1, 64*1))\n",
        "    fd, hog_image = hog(resized_img, orientations=9, pixels_per_cell=(8, 8),\n",
        "                  cells_per_block=(2, 2), visualize=True, multichannel=True)\n",
        "    if hog_image is not None:\n",
        "        hog_images.append(hog_image)\n",
        "        X_test.append(fd)\n",
        "\n",
        "y_train = np.array(y_train)\n",
        "X_train = np.array(X_train)\n",
        "X_test = np.array(X_test)\n",
        "\n",
        "print('Training data and target sizes: \\n{}, {}'.format(X_train.shape,len(y_train)))\n",
        "print('Test data and target sizes: \\n{}, {}'.format(X_test.shape,len(y_test)))"
      ],
      "metadata": {
        "colab": {
          "base_uri": "https://localhost:8080/"
        },
        "id": "jjssLqAZHu4S",
        "outputId": "df669d5b-d59b-42dd-b4a3-51ea5c07e4cd"
      },
      "execution_count": null,
      "outputs": [
        {
          "output_type": "stream",
          "name": "stderr",
          "text": [
            "100%|██████████| 1363/1363 [01:46<00:00, 12.78it/s]\n",
            "100%|██████████| 585/585 [00:09<00:00, 61.55it/s]\n"
          ]
        },
        {
          "output_type": "stream",
          "name": "stdout",
          "text": [
            "Training data and target sizes: \n",
            "(10904, 1260), 10904\n",
            "Test data and target sizes: \n",
            "(585, 1260), 585\n"
          ]
        }
      ]
    },
    {
      "cell_type": "code",
      "source": [
        "import pandas as pd\n",
        "pd.Series(y_train).value_counts().sort_index()"
      ],
      "metadata": {
        "colab": {
          "base_uri": "https://localhost:8080/"
        },
        "id": "iXuQmtxEH0JH",
        "outputId": "71567b0c-ff99-4b11-aa92-ab8a17a1dc17"
      },
      "execution_count": null,
      "outputs": [
        {
          "output_type": "execute_result",
          "data": {
            "text/plain": [
              "class1          1464\n",
              "class2          1176\n",
              "class3          1480\n",
              "class4          1032\n",
              "class5           832\n",
              "class6          1096\n",
              "class7          1088\n",
              "class8           944\n",
              "unidentified    1792\n",
              "dtype: int64"
            ]
          },
          "metadata": {},
          "execution_count": 31
        }
      ]
    },
    {
      "cell_type": "markdown",
      "source": [
        "# Classification"
      ],
      "metadata": {
        "id": "BMKkC-x4H0_J"
      }
    },
    {
      "cell_type": "markdown",
      "source": [
        "## Logistic Regression"
      ],
      "metadata": {
        "id": "aUsRipw-H4iv"
      }
    },
    {
      "cell_type": "code",
      "source": [
        "print('> Logistic Regression Classifier')\n",
        "random.seed(1)\n",
        "test_accuracy = []\n",
        "scaler = StandardScaler()\n",
        "X_scaled = scaler.fit_transform(X_train)\n",
        "lr_clf = LogisticRegression(random_state = 1)\n",
        "lr_clf.fit(X_scaled, y_train)\n",
        "lr_preds = lr_clf.predict(scaler.transform(X_test))\n",
        "print(confusion_matrix(lr_preds, y_test))\n",
        "print(accuracy_score(lr_preds, y_test))"
      ],
      "metadata": {
        "colab": {
          "base_uri": "https://localhost:8080/"
        },
        "id": "jLneMEnPH65e",
        "outputId": "d5ae5ab5-304d-4967-f88e-2d8883563468"
      },
      "execution_count": null,
      "outputs": [
        {
          "output_type": "stream",
          "name": "stdout",
          "text": [
            "> Logistic Regression Classifier\n",
            "[[78  1  0  0  0  0  0  1  0]\n",
            " [ 0 54  1  3  2  0  0  0  3]\n",
            " [ 0  0 76  0  1  1  1  1  2]\n",
            " [ 0  1  0 49  2  0  1  0  4]\n",
            " [ 0  0  0  1 29  1  1  2  0]\n",
            " [ 1  2  1  0  3 56  0  1  3]\n",
            " [ 0  2  0  1  4  0 54  0  5]\n",
            " [ 0  0  0  1  1  0  0 42  4]\n",
            " [ 0  3  1  0  3  0  2  4 75]]\n",
            "0.8769230769230769\n"
          ]
        },
        {
          "output_type": "stream",
          "name": "stderr",
          "text": [
            "/usr/local/lib/python3.7/dist-packages/sklearn/linear_model/_logistic.py:818: ConvergenceWarning: lbfgs failed to converge (status=1):\n",
            "STOP: TOTAL NO. of ITERATIONS REACHED LIMIT.\n",
            "\n",
            "Increase the number of iterations (max_iter) or scale the data as shown in:\n",
            "    https://scikit-learn.org/stable/modules/preprocessing.html\n",
            "Please also refer to the documentation for alternative solver options:\n",
            "    https://scikit-learn.org/stable/modules/linear_model.html#logistic-regression\n",
            "  extra_warning_msg=_LOGISTIC_SOLVER_CONVERGENCE_MSG,\n"
          ]
        }
      ]
    },
    {
      "cell_type": "markdown",
      "source": [
        "## Decision Tree"
      ],
      "metadata": {
        "id": "i2ehd2rCH_S4"
      }
    },
    {
      "cell_type": "code",
      "source": [
        "print('> Decision Tree Classifier')\n",
        "random.seed(1)\n",
        "test_accuracy = []\n",
        "scaler = StandardScaler()\n",
        "X_scaled = scaler.fit_transform(X_train)\n",
        "dt_clf = DecisionTreeClassifier(random_state = 1)\n",
        "dt_clf.fit(X_scaled, y_train)\n",
        "dt_preds = dt_clf.predict(scaler.transform(X_test))\n",
        "print(confusion_matrix(dt_preds, y_test))\n",
        "print(accuracy_score(dt_preds, y_test))"
      ],
      "metadata": {
        "colab": {
          "base_uri": "https://localhost:8080/"
        },
        "id": "Joc0XgrVH4BT",
        "outputId": "2a576a3d-355e-49a2-c689-ac763ca56049"
      },
      "execution_count": null,
      "outputs": [
        {
          "output_type": "stream",
          "name": "stdout",
          "text": [
            "> Decision Tree Classifier\n",
            "[[68  1  1  4  2  2  4  1  4]\n",
            " [ 0 49  1  1  3  0  1  0  4]\n",
            " [ 2  6 67  2  2  4  1  2  3]\n",
            " [ 1  2  2 33  1  1  4  1  3]\n",
            " [ 2  1  4  3 24  1  1  2  1]\n",
            " [ 0  1  3  2  3 38  3  1  5]\n",
            " [ 1  1  0  4  5  5 43  2  5]\n",
            " [ 2  0  1  5  2  6  2 38  7]\n",
            " [ 3  2  0  1  3  1  0  4 64]]\n",
            "0.7247863247863248\n"
          ]
        }
      ]
    },
    {
      "cell_type": "markdown",
      "source": [
        "## Random Forest"
      ],
      "metadata": {
        "id": "cymHh6TkIFN4"
      }
    },
    {
      "cell_type": "code",
      "source": [
        "print('> Random Forest Classifier')\n",
        "random.seed(1)\n",
        "test_accuracy = []\n",
        "scaler = StandardScaler()\n",
        "X_scaled = scaler.fit_transform(X_train)\n",
        "rf_clf = RandomForestClassifier(random_state = 1)\n",
        "rf_clf.fit(X_scaled, y_train)\n",
        "rf_preds = rf_clf.predict(scaler.transform(X_test))\n",
        "print(confusion_matrix(rf_preds, y_test))\n",
        "print(accuracy_score(rf_preds, y_test))"
      ],
      "metadata": {
        "colab": {
          "base_uri": "https://localhost:8080/"
        },
        "id": "p9NBMfJhIJgU",
        "outputId": "7f526034-8737-4475-e992-39a9166263b7"
      },
      "execution_count": null,
      "outputs": [
        {
          "output_type": "stream",
          "name": "stdout",
          "text": [
            "> Random Forest Classifier\n",
            "[[79  0  0  2  4  1  2  1  0]\n",
            " [ 0 61  1  1  5  2  0  1  3]\n",
            " [ 0  0 78  0  3  0  0  0  1]\n",
            " [ 0  0  0 51  0  0  0  0  0]\n",
            " [ 0  0  0  0 31  0  1  0  0]\n",
            " [ 0  0  0  0  0 51  0  0  1]\n",
            " [ 0  0  0  0  1  0 52  0  1]\n",
            " [ 0  0  0  1  0  3  2 44  4]\n",
            " [ 0  2  0  0  1  1  2  5 86]]\n",
            "0.9111111111111111\n"
          ]
        }
      ]
    },
    {
      "cell_type": "markdown",
      "source": [
        "# Extra Code"
      ],
      "metadata": {
        "id": "OdIm0BDeIe_U"
      }
    },
    {
      "cell_type": "code",
      "source": [
        "# Unidentified neckband barplot\n",
        "class_names = [\"1\", \"2\", \"3\", \"4\", \"5\", \"6\", \"7\", \"8\", \"9\"]\n",
        "class_number = [330, 299, 316, 202, 200, 200, 200, 201, 0]\n",
        "class_number_reduce = [262, 210, 264, 184, 149, 195, 195, 169, 320]\n",
        "  \n",
        "X_axis = np.arange(len(class_names))\n",
        "  \n",
        "plt.bar(X_axis - 0.2, class_number, 0.4, label = 'Before')\n",
        "plt.bar(X_axis + 0.2, class_number_reduce, 0.4, label = 'After')\n",
        "  \n",
        "plt.xticks(X_axis, class_names)\n",
        "plt.xlabel(\"Class\")\n",
        "plt.ylabel(\"Amount\")\n",
        "plt.legend()\n",
        "plt.show()"
      ],
      "metadata": {
        "id": "HahBGP9XIgPs"
      },
      "execution_count": null,
      "outputs": []
    },
    {
      "cell_type": "code",
      "source": [],
      "metadata": {
        "id": "5Dtu6WLFN6Lo"
      },
      "execution_count": null,
      "outputs": []
    }
  ]
}